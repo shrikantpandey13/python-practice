{
 "cells": [
  {
   "cell_type": "code",
   "execution_count": 1,
   "id": "7a15d020",
   "metadata": {},
   "outputs": [
    {
     "name": "stdout",
     "output_type": "stream",
     "text": [
      "[10, 34, 56, 78, 90]\n"
     ]
    }
   ],
   "source": [
    "lst = [10,34,56,78,90]\n",
    "print(lst)"
   ]
  },
  {
   "cell_type": "code",
   "execution_count": 8,
   "id": "64f63cab",
   "metadata": {},
   "outputs": [
    {
     "name": "stdout",
     "output_type": "stream",
     "text": [
      "707\n"
     ]
    }
   ],
   "source": [
    "nested_lst = [[23,45,4,74,89,23],[23,112,34,56],[56,78,90]]\n",
    "\n",
    "sum_lst = 0\n",
    "\n",
    "for lst in nested_lst:\n",
    "    for i in lst:\n",
    "        sum_lst = sum_lst+i\n",
    "\n",
    "print(sum_lst)\n"
   ]
  },
  {
   "cell_type": "code",
   "execution_count": null,
   "id": "757b6ccc",
   "metadata": {},
   "outputs": [],
   "source": []
  }
 ],
 "metadata": {
  "kernelspec": {
   "display_name": "Python 3",
   "language": "python",
   "name": "python3"
  },
  "language_info": {
   "codemirror_mode": {
    "name": "ipython",
    "version": 3
   },
   "file_extension": ".py",
   "mimetype": "text/x-python",
   "name": "python",
   "nbconvert_exporter": "python",
   "pygments_lexer": "ipython3",
   "version": "3.8.8"
  }
 },
 "nbformat": 4,
 "nbformat_minor": 5
}
